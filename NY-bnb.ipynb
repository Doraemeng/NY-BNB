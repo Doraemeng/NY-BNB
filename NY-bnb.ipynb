{
 "cells": [
  {
   "cell_type": "markdown",
   "metadata": {},
   "source": [
    "<div style=\"font-size: 50px;\">\n",
    "            New York Air BNB 2019</br></br>\n",
    "            </div>"
   ]
  },
  {
   "cell_type": "code",
   "execution_count": 162,
   "metadata": {},
   "outputs": [],
   "source": [
    "#import data analysis libraries\n",
    "import pandas as pd\n",
    "import numpy as np\n",
    "\n",
    "#import models, processing library\n",
    "from sklearn import model_selection, linear_model, metrics, datasets, feature_selection\n",
    "from sklearn.preprocessing import LabelEncoder\n",
    "import datetime as dt\n",
    "\n",
    "import matplotlib.pyplot as plt\n",
    "%matplotlib inline"
   ]
  },
  {
   "cell_type": "code",
   "execution_count": 3,
   "metadata": {},
   "outputs": [],
   "source": [
    "# pandas read data file\n",
    "room = pd.read_csv('AB_NYC_2019.csv')"
   ]
  },
  {
   "cell_type": "code",
   "execution_count": 4,
   "metadata": {},
   "outputs": [
    {
     "data": {
      "text/html": [
       "<div>\n",
       "<style scoped>\n",
       "    .dataframe tbody tr th:only-of-type {\n",
       "        vertical-align: middle;\n",
       "    }\n",
       "\n",
       "    .dataframe tbody tr th {\n",
       "        vertical-align: top;\n",
       "    }\n",
       "\n",
       "    .dataframe thead th {\n",
       "        text-align: right;\n",
       "    }\n",
       "</style>\n",
       "<table border=\"1\" class=\"dataframe\">\n",
       "  <thead>\n",
       "    <tr style=\"text-align: right;\">\n",
       "      <th></th>\n",
       "      <th>id</th>\n",
       "      <th>name</th>\n",
       "      <th>host_id</th>\n",
       "      <th>host_name</th>\n",
       "      <th>neighbourhood_group</th>\n",
       "      <th>neighbourhood</th>\n",
       "      <th>latitude</th>\n",
       "      <th>longitude</th>\n",
       "      <th>room_type</th>\n",
       "      <th>price</th>\n",
       "      <th>minimum_nights</th>\n",
       "      <th>number_of_reviews</th>\n",
       "      <th>last_review</th>\n",
       "      <th>reviews_per_month</th>\n",
       "      <th>calculated_host_listings_count</th>\n",
       "      <th>availability_365</th>\n",
       "    </tr>\n",
       "  </thead>\n",
       "  <tbody>\n",
       "    <tr>\n",
       "      <th>0</th>\n",
       "      <td>2539</td>\n",
       "      <td>Clean &amp; quiet apt home by the park</td>\n",
       "      <td>2787</td>\n",
       "      <td>John</td>\n",
       "      <td>Brooklyn</td>\n",
       "      <td>Kensington</td>\n",
       "      <td>40.64749</td>\n",
       "      <td>-73.97237</td>\n",
       "      <td>Private room</td>\n",
       "      <td>149</td>\n",
       "      <td>1</td>\n",
       "      <td>9</td>\n",
       "      <td>2018-10-19</td>\n",
       "      <td>0.21</td>\n",
       "      <td>6</td>\n",
       "      <td>365</td>\n",
       "    </tr>\n",
       "    <tr>\n",
       "      <th>1</th>\n",
       "      <td>2595</td>\n",
       "      <td>Skylit Midtown Castle</td>\n",
       "      <td>2845</td>\n",
       "      <td>Jennifer</td>\n",
       "      <td>Manhattan</td>\n",
       "      <td>Midtown</td>\n",
       "      <td>40.75362</td>\n",
       "      <td>-73.98377</td>\n",
       "      <td>Entire home/apt</td>\n",
       "      <td>225</td>\n",
       "      <td>1</td>\n",
       "      <td>45</td>\n",
       "      <td>2019-05-21</td>\n",
       "      <td>0.38</td>\n",
       "      <td>2</td>\n",
       "      <td>355</td>\n",
       "    </tr>\n",
       "    <tr>\n",
       "      <th>2</th>\n",
       "      <td>3647</td>\n",
       "      <td>THE VILLAGE OF HARLEM....NEW YORK !</td>\n",
       "      <td>4632</td>\n",
       "      <td>Elisabeth</td>\n",
       "      <td>Manhattan</td>\n",
       "      <td>Harlem</td>\n",
       "      <td>40.80902</td>\n",
       "      <td>-73.94190</td>\n",
       "      <td>Private room</td>\n",
       "      <td>150</td>\n",
       "      <td>3</td>\n",
       "      <td>0</td>\n",
       "      <td>NaN</td>\n",
       "      <td>NaN</td>\n",
       "      <td>1</td>\n",
       "      <td>365</td>\n",
       "    </tr>\n",
       "    <tr>\n",
       "      <th>3</th>\n",
       "      <td>3831</td>\n",
       "      <td>Cozy Entire Floor of Brownstone</td>\n",
       "      <td>4869</td>\n",
       "      <td>LisaRoxanne</td>\n",
       "      <td>Brooklyn</td>\n",
       "      <td>Clinton Hill</td>\n",
       "      <td>40.68514</td>\n",
       "      <td>-73.95976</td>\n",
       "      <td>Entire home/apt</td>\n",
       "      <td>89</td>\n",
       "      <td>1</td>\n",
       "      <td>270</td>\n",
       "      <td>2019-07-05</td>\n",
       "      <td>4.64</td>\n",
       "      <td>1</td>\n",
       "      <td>194</td>\n",
       "    </tr>\n",
       "    <tr>\n",
       "      <th>4</th>\n",
       "      <td>5022</td>\n",
       "      <td>Entire Apt: Spacious Studio/Loft by central park</td>\n",
       "      <td>7192</td>\n",
       "      <td>Laura</td>\n",
       "      <td>Manhattan</td>\n",
       "      <td>East Harlem</td>\n",
       "      <td>40.79851</td>\n",
       "      <td>-73.94399</td>\n",
       "      <td>Entire home/apt</td>\n",
       "      <td>80</td>\n",
       "      <td>10</td>\n",
       "      <td>9</td>\n",
       "      <td>2018-11-19</td>\n",
       "      <td>0.10</td>\n",
       "      <td>1</td>\n",
       "      <td>0</td>\n",
       "    </tr>\n",
       "  </tbody>\n",
       "</table>\n",
       "</div>"
      ],
      "text/plain": [
       "     id                                              name  host_id  \\\n",
       "0  2539                Clean & quiet apt home by the park     2787   \n",
       "1  2595                             Skylit Midtown Castle     2845   \n",
       "2  3647               THE VILLAGE OF HARLEM....NEW YORK !     4632   \n",
       "3  3831                   Cozy Entire Floor of Brownstone     4869   \n",
       "4  5022  Entire Apt: Spacious Studio/Loft by central park     7192   \n",
       "\n",
       "     host_name neighbourhood_group neighbourhood  latitude  longitude  \\\n",
       "0         John            Brooklyn    Kensington  40.64749  -73.97237   \n",
       "1     Jennifer           Manhattan       Midtown  40.75362  -73.98377   \n",
       "2    Elisabeth           Manhattan        Harlem  40.80902  -73.94190   \n",
       "3  LisaRoxanne            Brooklyn  Clinton Hill  40.68514  -73.95976   \n",
       "4        Laura           Manhattan   East Harlem  40.79851  -73.94399   \n",
       "\n",
       "         room_type  price  minimum_nights  number_of_reviews last_review  \\\n",
       "0     Private room    149               1                  9  2018-10-19   \n",
       "1  Entire home/apt    225               1                 45  2019-05-21   \n",
       "2     Private room    150               3                  0         NaN   \n",
       "3  Entire home/apt     89               1                270  2019-07-05   \n",
       "4  Entire home/apt     80              10                  9  2018-11-19   \n",
       "\n",
       "   reviews_per_month  calculated_host_listings_count  availability_365  \n",
       "0               0.21                               6               365  \n",
       "1               0.38                               2               355  \n",
       "2                NaN                               1               365  \n",
       "3               4.64                               1               194  \n",
       "4               0.10                               1                 0  "
      ]
     },
     "execution_count": 4,
     "metadata": {},
     "output_type": "execute_result"
    }
   ],
   "source": [
    "# remove irrevant columns such as 'latitude', 'longitude'\n",
    "# room.columns\n",
    "room.head()"
   ]
  },
  {
   "cell_type": "code",
   "execution_count": 5,
   "metadata": {},
   "outputs": [],
   "source": [
    "# customer id and host_id are not relevant to this model, remove them. \n",
    "# since 'neighbourhood_group' and 'neighbourhood' are not indepent, only keep 'neighbourhood'\n",
    "# 'latitude' and 'longitude' are irrelevant as well, remove them\n",
    "\n",
    "include_columns = ['name', \n",
    "       'neighbourhood','room_type',\n",
    "       'minimum_nights', 'number_of_reviews', 'last_review',\n",
    "       'reviews_per_month', 'calculated_host_listings_count',\n",
    "       'availability_365', 'price']\n",
    "room = room[include_columns]"
   ]
  },
  {
   "cell_type": "code",
   "execution_count": 39,
   "metadata": {},
   "outputs": [],
   "source": [
    "first_day = room['last_review'].sort_values().tolist()[0]\n",
    "last_day= room['last_review'].sort_values().tolist()[-1]"
   ]
  },
  {
   "cell_type": "code",
   "execution_count": 206,
   "metadata": {},
   "outputs": [],
   "source": [
    "# NaN are replaced with values,\n",
    "# NaN of last_review data is replaced by the earliest date in the dataset\n",
    "# NaN of reviews_per_month is replaced by 0.\n",
    "\n",
    "room['last_review']=room['last_review'].replace(np.nan, first_day)\n",
    "room['reviews_per_month']=room['reviews_per_month'].replace(np.nan, 0)\n",
    "room['name']=room['name'].replace(np.nan, 'unavailable')"
   ]
  },
  {
   "cell_type": "code",
   "execution_count": 375,
   "metadata": {},
   "outputs": [],
   "source": [
    "entire_home = room[room['room_type'] == 'Entire home/apt']\n",
    "private_home = room[room['room_type'] == 'Private room']\n",
    "shared_home = room[room['room_type'] == 'Shared room']"
   ]
  },
  {
   "cell_type": "code",
   "execution_count": 376,
   "metadata": {},
   "outputs": [
    {
     "data": {
      "text/plain": [
       "Text(0.5, 1.0, 'Price Distribution')"
      ]
     },
     "execution_count": 376,
     "metadata": {},
     "output_type": "execute_result"
    },
    {
     "data": {
      "image/png": "[encoded data removed]",
      "text/plain": [
       "<Figure size 864x432 with 3 Axes>"
      ]
     },
     "metadata": {
      "needs_background": "light"
     },
     "output_type": "display_data"
    }
   ],
   "source": [
    "\n",
    "plt.subplot(1, 3, 1)\n",
    "entire_home['price'].plot.hist(bins=40, figsize=(12, 6), edgecolor = 'white', range = [0, 1000],\n",
    "                       color = 'blue')\n",
    "plt.xlabel('entire home price', fontsize=12)\n",
    "plt.title('Price Distribution', fontsize=12)\n",
    "\n",
    "plt.subplot(1, 3, 2)\n",
    "private_home['price'].plot.hist(bins=40, figsize=(12, 6), edgecolor = 'white', range = [0, 1000],\n",
    "                       color = 'blue')\n",
    "plt.xlabel('private home price', fontsize=12)\n",
    "plt.title('Price Distribution', fontsize=12)\n",
    "\n",
    "plt.subplot(1, 3, 3)\n",
    "shared_home['price'].plot.hist(bins=40, figsize=(12, 6), edgecolor = 'white', range = [0, 1000],\n",
    "                       color = 'blue')\n",
    "plt.xlabel('shared home price', fontsize=12)\n",
    "plt.title('Price Distribution', fontsize=12)"
   ]
  },
  {
   "cell_type": "markdown",
   "metadata": {},
   "source": [
    "<div style = \"font-size: 18px; color: red\">\n",
    "    focus on entire home price, the other two categories can be done similarly\n",
    " </div>"
   ]
  },
  {
   "cell_type": "code",
   "execution_count": 377,
   "metadata": {},
   "outputs": [],
   "source": [
    "# remove outliers, only rooms priced in the range (50, 500) are chosen\n",
    "\n",
    "entire_home = room[(room['room_type'] == 'Entire home/apt') & (room['price'] < 500) & (room['price'] > 50)]"
   ]
  },
  {
   "cell_type": "code",
   "execution_count": 378,
   "metadata": {},
   "outputs": [
    {
     "data": {
      "text/plain": [
       "Text(0.5, 1.0, 'Price Distribution')"
      ]
     },
     "execution_count": 378,
     "metadata": {},
     "output_type": "execute_result"
    },
    {
     "data": {
      "image/png": "[encoded data removed]",
      "text/plain": [
       "<Figure size 864x432 with 1 Axes>"
      ]
     },
     "metadata": {
      "needs_background": "light"
     },
     "output_type": "display_data"
    }
   ],
   "source": [
    "# prices of three types of rooms are of different scales\n",
    "\n",
    "\n",
    "entire_home['price'].plot.hist(bins=40, figsize=(12, 6), edgecolor = 'white', range = [0, 1000],\n",
    "                       color = 'blue')\n",
    "plt.xlabel('entire home price', fontsize=12)\n",
    "plt.title('Price Distribution', fontsize=12)"
   ]
  },
  {
   "cell_type": "code",
   "execution_count": 324,
   "metadata": {},
   "outputs": [
    {
     "data": {
      "text/plain": [
       "Text(0.5, 1.0, 'Price Distribution')"
      ]
     },
     "execution_count": 324,
     "metadata": {},
     "output_type": "execute_result"
    },
    {
     "data": {
      "image/png": "[encoded data removed]",
      "text/plain": [
       "<Figure size 864x432 with 2 Axes>"
      ]
     },
     "metadata": {
      "needs_background": "light"
     },
     "output_type": "display_data"
    }
   ],
   "source": [
    "# Histogram of price distributions with price \n",
    "# price distribution vs price (blue)\n",
    "# price distribution vs log(price + 1) (red)\n",
    "\n",
    "plt.subplot(1, 2, 1)\n",
    "entire_home['price'].plot.hist(bins=40, figsize=(12, 6), edgecolor = 'white', range = [0, 1000],\n",
    "                       color = 'blue')\n",
    "plt.xlabel('price', fontsize=12)\n",
    "plt.title('Price Distribution', fontsize=12)\n",
    "\n",
    "plt.subplot(1, 2, 2)\n",
    "np.log(entire_home['price']+1).plot.hist(bins=40, figsize=(12, 6), edgecolor = 'white', range = [3, 8],\n",
    "                            color = 'red')\n",
    "plt.xlabel('log(price+1)', fontsize=12)\n",
    "plt.title('Price Distribution', fontsize=12)"
   ]
  },
  {
   "cell_type": "markdown",
   "metadata": {},
   "source": [
    "<div style = \"font-size: 18px; color: red\">\n",
    "As for the numerical variables, the correlations with price are weak except 'availability_365'.\n",
    "    </br>\n",
    "    More important factors determining the price are those categorical variables.\n",
    "</div>"
   ]
  },
  {
   "cell_type": "code",
   "execution_count": 367,
   "metadata": {},
   "outputs": [],
   "source": [
    "# entire_home['time_to_last_review'] is defined somehow arbitrary. \n",
    "# (days to last_day + 1)/365 converted the days to the last day to years,\n",
    "# for not generating 0 result, 1 is added to the number of days.\n",
    "# To soomth out the scale of the variable, logrithm function is taken to the number of years,\n",
    "# for not generating 0 result, 1 is added to the number of years.\n",
    "\n",
    "entire_home.loc[:, 'time_to_last_review'] = np.log(((pd.to_datetime(last_day)\\\n",
    "        - pd.to_datetime(entire_home['last_review'])).dt.days + 1)/365 + 1)"
   ]
  },
  {
   "cell_type": "code",
   "execution_count": 368,
   "metadata": {},
   "outputs": [],
   "source": [
    "# Room prices in different neighbourhood varies greatly. A price factor is defined in this \n",
    "# model. It is the mean price in each neighbourhood. \n",
    "\n",
    "neighbour_coef = entire_home[['price', 'neighbourhood']].groupby('neighbourhood').mean()\n",
    "neighbour_coef.columns = ['price_factor']"
   ]
  },
  {
   "cell_type": "code",
   "execution_count": 369,
   "metadata": {},
   "outputs": [],
   "source": [
    "entire_home_fit = pd.merge(entire_home, neighbour_coef, on = 'neighbourhood')"
   ]
  },
  {
   "cell_type": "code",
   "execution_count": 370,
   "metadata": {},
   "outputs": [
    {
     "data": {
      "text/plain": [
       "Index(['name', 'neighbourhood', 'room_type', 'minimum_nights',\n",
       "       'number_of_reviews', 'last_review', 'reviews_per_month',\n",
       "       'calculated_host_listings_count', 'availability_365', 'price',\n",
       "       'time_to_last_review', 'price_factor'],\n",
       "      dtype='object')"
      ]
     },
     "execution_count": 370,
     "metadata": {},
     "output_type": "execute_result"
    }
   ],
   "source": [
    "entire_home_fit.columns"
   ]
  },
  {
   "cell_type": "code",
   "execution_count": 371,
   "metadata": {},
   "outputs": [],
   "source": [
    "included_columns = ['name', 'neighbourhood', 'room_type', 'minimum_nights',\n",
    "       'number_of_reviews', 'last_review', 'reviews_per_month',\n",
    "       'calculated_host_listings_count','availability_365',\n",
    "       'time_to_last_review', 'price_factor', 'price']\n",
    "entire_home_fit1 = entire_home_fit[included_columns]"
   ]
  },
  {
   "cell_type": "code",
   "execution_count": 345,
   "metadata": {},
   "outputs": [
    {
     "data": {
      "text/html": [
       "<div>\n",
       "<style scoped>\n",
       "    .dataframe tbody tr th:only-of-type {\n",
       "        vertical-align: middle;\n",
       "    }\n",
       "\n",
       "    .dataframe tbody tr th {\n",
       "        vertical-align: top;\n",
       "    }\n",
       "\n",
       "    .dataframe thead th {\n",
       "        text-align: right;\n",
       "    }\n",
       "</style>\n",
       "<table border=\"1\" class=\"dataframe\">\n",
       "  <thead>\n",
       "    <tr style=\"text-align: right;\">\n",
       "      <th></th>\n",
       "      <th>name</th>\n",
       "      <th>neighbourhood</th>\n",
       "      <th>room_type</th>\n",
       "      <th>minimum_nights</th>\n",
       "      <th>number_of_reviews</th>\n",
       "      <th>last_review</th>\n",
       "      <th>reviews_per_month</th>\n",
       "      <th>calculated_host_listings_count</th>\n",
       "      <th>availability_365</th>\n",
       "      <th>time_to_last_review</th>\n",
       "      <th>price_factor</th>\n",
       "      <th>price</th>\n",
       "    </tr>\n",
       "  </thead>\n",
       "  <tbody>\n",
       "    <tr>\n",
       "      <th>0</th>\n",
       "      <td>Skylit Midtown Castle</td>\n",
       "      <td>Midtown</td>\n",
       "      <td>Entire home/apt</td>\n",
       "      <td>0.693147</td>\n",
       "      <td>3.828641</td>\n",
       "      <td>2019-05-21</td>\n",
       "      <td>0.322083</td>\n",
       "      <td>2</td>\n",
       "      <td>5.874931</td>\n",
       "      <td>0.125969</td>\n",
       "      <td>226.433333</td>\n",
       "      <td>225</td>\n",
       "    </tr>\n",
       "    <tr>\n",
       "      <th>2</th>\n",
       "      <td>Quiet, clean midtown apt w. elevato</td>\n",
       "      <td>Midtown</td>\n",
       "      <td>Entire home/apt</td>\n",
       "      <td>5.303305</td>\n",
       "      <td>4.532599</td>\n",
       "      <td>2019-04-30</td>\n",
       "      <td>0.641854</td>\n",
       "      <td>1</td>\n",
       "      <td>4.948760</td>\n",
       "      <td>0.175449</td>\n",
       "      <td>226.433333</td>\n",
       "      <td>110</td>\n",
       "    </tr>\n",
       "    <tr>\n",
       "      <th>3</th>\n",
       "      <td>Very Central, Nomad/Chelsea Loft Studio</td>\n",
       "      <td>Midtown</td>\n",
       "      <td>Entire home/apt</td>\n",
       "      <td>2.944439</td>\n",
       "      <td>4.007333</td>\n",
       "      <td>2019-07-03</td>\n",
       "      <td>0.451076</td>\n",
       "      <td>1</td>\n",
       "      <td>4.595120</td>\n",
       "      <td>0.016305</td>\n",
       "      <td>226.433333</td>\n",
       "      <td>169</td>\n",
       "    </tr>\n",
       "    <tr>\n",
       "      <th>6</th>\n",
       "      <td>Stylish Studio with exclusive Terrace</td>\n",
       "      <td>Midtown</td>\n",
       "      <td>Entire home/apt</td>\n",
       "      <td>3.433987</td>\n",
       "      <td>4.919981</td>\n",
       "      <td>2019-06-19</td>\n",
       "      <td>0.896088</td>\n",
       "      <td>1</td>\n",
       "      <td>4.795791</td>\n",
       "      <td>0.053346</td>\n",
       "      <td>226.433333</td>\n",
       "      <td>190</td>\n",
       "    </tr>\n",
       "    <tr>\n",
       "      <th>7</th>\n",
       "      <td>Easy, comfortable studio in Midtown</td>\n",
       "      <td>Midtown</td>\n",
       "      <td>Entire home/apt</td>\n",
       "      <td>5.902633</td>\n",
       "      <td>2.995732</td>\n",
       "      <td>2015-09-08</td>\n",
       "      <td>0.190620</td>\n",
       "      <td>1</td>\n",
       "      <td>5.902633</td>\n",
       "      <td>1.576009</td>\n",
       "      <td>226.433333</td>\n",
       "      <td>125</td>\n",
       "    </tr>\n",
       "  </tbody>\n",
       "</table>\n",
       "</div>"
      ],
      "text/plain": [
       "                                      name neighbourhood        room_type  \\\n",
       "0                    Skylit Midtown Castle       Midtown  Entire home/apt   \n",
       "2      Quiet, clean midtown apt w. elevato       Midtown  Entire home/apt   \n",
       "3  Very Central, Nomad/Chelsea Loft Studio       Midtown  Entire home/apt   \n",
       "6    Stylish Studio with exclusive Terrace       Midtown  Entire home/apt   \n",
       "7      Easy, comfortable studio in Midtown       Midtown  Entire home/apt   \n",
       "\n",
       "   minimum_nights  number_of_reviews last_review  reviews_per_month  \\\n",
       "0        0.693147           3.828641  2019-05-21           0.322083   \n",
       "2        5.303305           4.532599  2019-04-30           0.641854   \n",
       "3        2.944439           4.007333  2019-07-03           0.451076   \n",
       "6        3.433987           4.919981  2019-06-19           0.896088   \n",
       "7        5.902633           2.995732  2015-09-08           0.190620   \n",
       "\n",
       "   calculated_host_listings_count  availability_365  time_to_last_review  \\\n",
       "0                               2          5.874931             0.125969   \n",
       "2                               1          4.948760             0.175449   \n",
       "3                               1          4.595120             0.016305   \n",
       "6                               1          4.795791             0.053346   \n",
       "7                               1          5.902633             1.576009   \n",
       "\n",
       "   price_factor  price  \n",
       "0    226.433333    225  \n",
       "2    226.433333    110  \n",
       "3    226.433333    169  \n",
       "6    226.433333    190  \n",
       "7    226.433333    125  "
      ]
     },
     "execution_count": 345,
     "metadata": {},
     "output_type": "execute_result"
    }
   ],
   "source": [
    "# entire_home_fit1['minimum_nights'] = np.log1p(entire_home_fit1['minimum_nights'])\n",
    "# entire_home_fit1['number_of_reviews'] = np.log1p(entire_home_fit1['number_of_reviews'])\n",
    "# entire_home_fit1['reviews_per_month'] = np.log1p(entire_home_fit1['reviews_per_month'])\n",
    "# entire_home_fit1['availability_365'] = np.log1p(entire_home_fit1['availability_365'])\n",
    "# entire_home_fit1.head()"
   ]
  },
  {
   "cell_type": "code",
   "execution_count": 372,
   "metadata": {},
   "outputs": [
    {
     "data": {
      "text/html": [
       "<div>\n",
       "<style scoped>\n",
       "    .dataframe tbody tr th:only-of-type {\n",
       "        vertical-align: middle;\n",
       "    }\n",
       "\n",
       "    .dataframe tbody tr th {\n",
       "        vertical-align: top;\n",
       "    }\n",
       "\n",
       "    .dataframe thead th {\n",
       "        text-align: right;\n",
       "    }\n",
       "</style>\n",
       "<table border=\"1\" class=\"dataframe\">\n",
       "  <thead>\n",
       "    <tr style=\"text-align: right;\">\n",
       "      <th></th>\n",
       "      <th>minimum_nights</th>\n",
       "      <th>number_of_reviews</th>\n",
       "      <th>reviews_per_month</th>\n",
       "      <th>calculated_host_listings_count</th>\n",
       "      <th>availability_365</th>\n",
       "      <th>time_to_last_review</th>\n",
       "      <th>price_factor</th>\n",
       "      <th>price</th>\n",
       "    </tr>\n",
       "  </thead>\n",
       "  <tbody>\n",
       "    <tr>\n",
       "      <th>minimum_nights</th>\n",
       "      <td>1.000000</td>\n",
       "      <td>-0.088912</td>\n",
       "      <td>-0.142441</td>\n",
       "      <td>0.135872</td>\n",
       "      <td>0.196152</td>\n",
       "      <td>0.136511</td>\n",
       "      <td>0.101706</td>\n",
       "      <td>-0.003638</td>\n",
       "    </tr>\n",
       "    <tr>\n",
       "      <th>number_of_reviews</th>\n",
       "      <td>-0.088912</td>\n",
       "      <td>1.000000</td>\n",
       "      <td>0.580006</td>\n",
       "      <td>-0.101662</td>\n",
       "      <td>0.199320</td>\n",
       "      <td>-0.397570</td>\n",
       "      <td>-0.135517</td>\n",
       "      <td>-0.076529</td>\n",
       "    </tr>\n",
       "    <tr>\n",
       "      <th>reviews_per_month</th>\n",
       "      <td>-0.142441</td>\n",
       "      <td>0.580006</td>\n",
       "      <td>1.000000</td>\n",
       "      <td>-0.067447</td>\n",
       "      <td>0.190806</td>\n",
       "      <td>-0.558820</td>\n",
       "      <td>-0.159613</td>\n",
       "      <td>-0.040457</td>\n",
       "    </tr>\n",
       "    <tr>\n",
       "      <th>calculated_host_listings_count</th>\n",
       "      <td>0.135872</td>\n",
       "      <td>-0.101662</td>\n",
       "      <td>-0.067447</td>\n",
       "      <td>1.000000</td>\n",
       "      <td>0.296984</td>\n",
       "      <td>0.125084</td>\n",
       "      <td>0.253070</td>\n",
       "      <td>0.154040</td>\n",
       "    </tr>\n",
       "    <tr>\n",
       "      <th>availability_365</th>\n",
       "      <td>0.196152</td>\n",
       "      <td>0.199320</td>\n",
       "      <td>0.190806</td>\n",
       "      <td>0.296984</td>\n",
       "      <td>1.000000</td>\n",
       "      <td>-0.159469</td>\n",
       "      <td>0.028497</td>\n",
       "      <td>0.159620</td>\n",
       "    </tr>\n",
       "    <tr>\n",
       "      <th>time_to_last_review</th>\n",
       "      <td>0.136511</td>\n",
       "      <td>-0.397570</td>\n",
       "      <td>-0.558820</td>\n",
       "      <td>0.125084</td>\n",
       "      <td>-0.159469</td>\n",
       "      <td>1.000000</td>\n",
       "      <td>0.154914</td>\n",
       "      <td>0.075268</td>\n",
       "    </tr>\n",
       "    <tr>\n",
       "      <th>price_factor</th>\n",
       "      <td>0.101706</td>\n",
       "      <td>-0.135517</td>\n",
       "      <td>-0.159613</td>\n",
       "      <td>0.253070</td>\n",
       "      <td>0.028497</td>\n",
       "      <td>0.154914</td>\n",
       "      <td>1.000000</td>\n",
       "      <td>0.425112</td>\n",
       "    </tr>\n",
       "    <tr>\n",
       "      <th>price</th>\n",
       "      <td>-0.003638</td>\n",
       "      <td>-0.076529</td>\n",
       "      <td>-0.040457</td>\n",
       "      <td>0.154040</td>\n",
       "      <td>0.159620</td>\n",
       "      <td>0.075268</td>\n",
       "      <td>0.425112</td>\n",
       "      <td>1.000000</td>\n",
       "    </tr>\n",
       "  </tbody>\n",
       "</table>\n",
       "</div>"
      ],
      "text/plain": [
       "                                minimum_nights  number_of_reviews  \\\n",
       "minimum_nights                        1.000000          -0.088912   \n",
       "number_of_reviews                    -0.088912           1.000000   \n",
       "reviews_per_month                    -0.142441           0.580006   \n",
       "calculated_host_listings_count        0.135872          -0.101662   \n",
       "availability_365                      0.196152           0.199320   \n",
       "time_to_last_review                   0.136511          -0.397570   \n",
       "price_factor                          0.101706          -0.135517   \n",
       "price                                -0.003638          -0.076529   \n",
       "\n",
       "                                reviews_per_month  \\\n",
       "minimum_nights                          -0.142441   \n",
       "number_of_reviews                        0.580006   \n",
       "reviews_per_month                        1.000000   \n",
       "calculated_host_listings_count          -0.067447   \n",
       "availability_365                         0.190806   \n",
       "time_to_last_review                     -0.558820   \n",
       "price_factor                            -0.159613   \n",
       "price                                   -0.040457   \n",
       "\n",
       "                                calculated_host_listings_count  \\\n",
       "minimum_nights                                        0.135872   \n",
       "number_of_reviews                                    -0.101662   \n",
       "reviews_per_month                                    -0.067447   \n",
       "calculated_host_listings_count                        1.000000   \n",
       "availability_365                                      0.296984   \n",
       "time_to_last_review                                   0.125084   \n",
       "price_factor                                          0.253070   \n",
       "price                                                 0.154040   \n",
       "\n",
       "                                availability_365  time_to_last_review  \\\n",
       "minimum_nights                          0.196152             0.136511   \n",
       "number_of_reviews                       0.199320            -0.397570   \n",
       "reviews_per_month                       0.190806            -0.558820   \n",
       "calculated_host_listings_count          0.296984             0.125084   \n",
       "availability_365                        1.000000            -0.159469   \n",
       "time_to_last_review                    -0.159469             1.000000   \n",
       "price_factor                            0.028497             0.154914   \n",
       "price                                   0.159620             0.075268   \n",
       "\n",
       "                                price_factor     price  \n",
       "minimum_nights                      0.101706 -0.003638  \n",
       "number_of_reviews                  -0.135517 -0.076529  \n",
       "reviews_per_month                  -0.159613 -0.040457  \n",
       "calculated_host_listings_count      0.253070  0.154040  \n",
       "availability_365                    0.028497  0.159620  \n",
       "time_to_last_review                 0.154914  0.075268  \n",
       "price_factor                        1.000000  0.425112  \n",
       "price                               0.425112  1.000000  "
      ]
     },
     "execution_count": 372,
     "metadata": {},
     "output_type": "execute_result"
    }
   ],
   "source": [
    "entire_home_fit1.corr()"
   ]
  },
  {
   "cell_type": "code",
   "execution_count": 373,
   "metadata": {},
   "outputs": [
    {
     "data": {
      "text/plain": [
       "0.20569119685948056"
      ]
     },
     "execution_count": 373,
     "metadata": {},
     "output_type": "execute_result"
    }
   ],
   "source": [
    "# choose the columns stroing correlated with price\n",
    "\n",
    "regr = linear_model.LinearRegression()\n",
    "\n",
    "factors = ['calculated_host_listings_count', 'availability_365', 'time_to_last_review', 'price_factor']\n",
    "\n",
    "X = entire_home_fit1[factors]\n",
    "y = entire_home_fit1['price']\n",
    "# msk = np.random.rand(len(entire_home_fit1)) < 0.8\n",
    "# X_train, X_test, y_train, y_test = \\\n",
    "# X[msk], X[~msk], y[msk], y[~msk]\n",
    "\n",
    "X_train, X_test, y_train, y_test = model_selection.train_test_split(X, y, test_size=0.4, random_state=0)\n",
    "regr.fit(X_train, y_train)\n",
    "regr.score(X_train, y_train)\n"
   ]
  },
  {
   "cell_type": "code",
   "execution_count": 374,
   "metadata": {},
   "outputs": [
    {
     "data": {
      "text/plain": [
       "0.20033469240827984"
      ]
     },
     "execution_count": 374,
     "metadata": {},
     "output_type": "execute_result"
    }
   ],
   "source": [
    "\n",
    "regr.score(X_test, y_test)"
   ]
  },
  {
   "cell_type": "markdown",
   "metadata": {},
   "source": [
    "<div style = \"font-size: 18px; color: red\">\n",
    "Next the user feedbacks to rooms are included in the model. This more complicated model involves \n",
    "    language processing.\n",
    "</div>"
   ]
  },
  {
   "cell_type": "code",
   "execution_count": 81,
   "metadata": {},
   "outputs": [
    {
     "data": {
      "text/plain": [
       "in              7230\n",
       "apartment       4457\n",
       "studio          3468\n",
       "bedroom         3445\n",
       "apt             2635\n",
       "1               2482\n",
       "2               2289\n",
       "the             2191\n",
       "brooklyn        1932\n",
       "east            1892\n",
       "spacious        1882\n",
       "cozy            1868\n",
       "of              1717\n",
       "to              1673\n",
       "park            1653\n",
       "with            1511\n",
       "village         1474\n",
       "&               1432\n",
       "and             1356\n",
       "private         1323\n",
       "1br             1304\n",
       "manhattan       1302\n",
       "beautiful       1293\n",
       "-               1213\n",
       "heart           1208\n",
       "luxury          1193\n",
       "loft            1185\n",
       "williamsburg    1173\n",
       "sunny           1169\n",
       "modern          1149\n",
       "                ... \n",
       "sonder           415\n",
       "heights          406\n",
       "apt.             398\n",
       "house            396\n",
       "renovated        396\n",
       "slope            379\n",
       "city             375\n",
       "gorgeous         366\n",
       "best             361\n",
       "bath             357\n",
       "townhouse        342\n",
       "lovely           339\n",
       "hill             337\n",
       "prospect         332\n",
       "floor            330\n",
       "suite            324\n",
       "clean            323\n",
       "min              318\n",
       "subway           316\n",
       "perfect          315\n",
       "view             311\n",
       "bushwick         303\n",
       "views            297\n",
       "york             295\n",
       "soho             292\n",
       "doorman          282\n",
       "kitchen          275\n",
       "historic         265\n",
       "stylish          262\n",
       "penthouse        259\n",
       "Length: 100, dtype: int64"
      ]
     },
     "execution_count": 81,
     "metadata": {},
     "output_type": "execute_result"
    }
   ],
   "source": [
    "# key words in user feedbacks\n",
    "\n",
    "pd.Series(' '.join(entire_home.name).lower().split()).value_counts()[: 100]"
   ]
  },
  {
   "cell_type": "code",
   "execution_count": null,
   "metadata": {},
   "outputs": [],
   "source": []
  }
 ],
 "metadata": {
  "kernelspec": {
   "display_name": "Python 3",
   "language": "python",
   "name": "python3"
  },
  "language_info": {
   "codemirror_mode": {
    "name": "ipython",
    "version": 3
   },
   "file_extension": ".py",
   "mimetype": "text/x-python",
   "name": "python",
   "nbconvert_exporter": "python",
   "pygments_lexer": "ipython3",
   "version": "3.7.3"
  }
 },
 "nbformat": 4,
 "nbformat_minor": 2
}
